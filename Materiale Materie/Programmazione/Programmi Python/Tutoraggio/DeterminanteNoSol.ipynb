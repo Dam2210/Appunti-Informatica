{
 "cells": [
  {
   "cell_type": "markdown",
   "metadata": {},
   "source": [
    "<h1>Calcolo del determinante</h1>\n",
    "Poniamo di avere una matrice <i>M</i> di grandezza <i>n</i>x<i>n</i> (ossia di avere una matrice <i>M</i> quadrata). Vogliamo scrivere un programma che, presa questa matrice, la sua larghezza e la sua altezza, ci calcola il suo determinante (definizione di determinante: <a href=\"https://it.wikipedia.org/wiki/Determinante_(algebra)\">https://it.wikipedia.org/wiki/Determinante_(algebra)</a>). Viene fornita una funzione <i>sottomatrice(matrix, cut_column)</i> che prende una matrice e un indice <i>i</i>, e restituisce la sottomatrice della matrice pasata togliendo la prima riga e la <i>i</i>-esima colonna"
   ]
  },
  {
   "cell_type": "code",
   "execution_count": 1,
   "metadata": {},
   "outputs": [],
   "source": [
    "'''\n",
    "Input: una matrice e un indice i\n",
    "Output: la sottomatrice (eliminando la prima riga e la i-esima colonna)\n",
    "'''\n",
    "\n",
    "def sottomatrice(matrix, cut_column):\n",
    "    sub_matrix = [[0 for i in range(len(matrix)-1)] for j in range(len(matrix)-1)]\n",
    "    for i in range(1, len(matrix)):\n",
    "        index = 0\n",
    "        for j in range(len(matrix)):\n",
    "            if j != cut_column:\n",
    "                sub_matrix[i-1][index] = matrix[i][j]\n",
    "                index += 1\n",
    "    return sub_matrix"
   ]
  },
  {
   "cell_type": "markdown",
   "metadata": {},
   "source": [
    "Viene fornita anche una funzione che, presi larghezza, altezza, valore minimo e valore massimo, restituisce una matrice casuale di valori compresi tra il valroe minimo e il valore massimo (compresi)."
   ]
  },
  {
   "cell_type": "code",
   "execution_count": 2,
   "metadata": {},
   "outputs": [],
   "source": [
    "import random\n",
    "\n",
    "'''\n",
    "Input: larghezza, altezza\n",
    "Output: una matrice casuale\n",
    "'''\n",
    "\n",
    "def casuale(width, height, min_value, max_value):\n",
    "    matrix = [[0 for i in range(width)] for j in range(height)]\n",
    "    for i in range(len(matrix)):\n",
    "        for j in range(len(matrix)):\n",
    "            matrix[i][j] = random.randint(min_value, max_value)\n",
    "    return matrix"
   ]
  },
  {
   "cell_type": "markdown",
   "metadata": {},
   "source": [
    "Di seguito è riportata la definizione della funzione per il calcolo del determinante."
   ]
  },
  {
   "cell_type": "code",
   "execution_count": 6,
   "metadata": {},
   "outputs": [],
   "source": [
    "'''\n",
    "Input: matrice, larghezza, altezza\n",
    "Output: il determinante della matrice\n",
    "'''\n",
    "\n",
    "def determinante(matrix, width, height):"
   ]
  },
  {
   "cell_type": "markdown",
   "metadata": {},
   "source": [
    "Sotto sono presentati alcuni esempi di matrici con relativo calcolo del determinante per il testing."
   ]
  },
  {
   "cell_type": "code",
   "execution_count": 9,
   "metadata": {},
   "outputs": [
    {
     "name": "stdout",
     "output_type": "stream",
     "text": [
      "[[3, 7, 2], [4, 6, 1], [9, 0, 3]]\n",
      "-75\n",
      "-----\n",
      "[[9, 0, 12, 5, 2], [3, 0, 0, 4, 21], [0, 10, 9, 7, 11], [24, 5, 0, 9, 6], [16, 7, 4, 2, 29]]\n",
      "-679206\n",
      "-----\n",
      "[[6, -2, 2, 3, 5], [9, 5, -10, -10, 6], [-10, -1, -10, -2, 9], [6, -4, -6, 10, 0], [1, 5, -3, -5, 6]]\n",
      "-89362\n"
     ]
    }
   ],
   "source": [
    "matrix = [[3, 7, 2], [4, 6, 1], [9, 0, 3]]\n",
    "print(matrix)\n",
    "print(determinante(matrix, 3, 3))\n",
    "\n",
    "print(\"-----\")\n",
    "\n",
    "matrix = [[9, 0, 12, 5, 2], [3, 0, 0, 4, 21], [0, 10, 9, 7, 11], [24, 5, 0, 9, 6], [16, 7, 4, 2, 29]]\n",
    "print(matrix)\n",
    "print(determinante(matrix, 5, 5))\n",
    "\n",
    "print(\"-----\")\n",
    "\n",
    "matrix = casuale(5, 5, -10, 10)\n",
    "print(matrix)\n",
    "print(determinante(matrix, 5, 5))"
   ]
  }
 ],
 "metadata": {
  "kernelspec": {
   "display_name": "Python 3",
   "language": "python",
   "name": "python3"
  },
  "language_info": {
   "codemirror_mode": {
    "name": "ipython",
    "version": 3
   },
   "file_extension": ".py",
   "mimetype": "text/x-python",
   "name": "python",
   "nbconvert_exporter": "python",
   "pygments_lexer": "ipython3",
   "version": "3.8.5"
  }
 },
 "nbformat": 4,
 "nbformat_minor": 4
}
