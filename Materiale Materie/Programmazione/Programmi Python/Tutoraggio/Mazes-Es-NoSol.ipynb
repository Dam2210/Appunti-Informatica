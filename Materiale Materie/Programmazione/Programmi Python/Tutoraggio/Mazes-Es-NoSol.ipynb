{
 "cells": [
  {
   "cell_type": "code",
   "execution_count": 8,
   "metadata": {},
   "outputs": [],
   "source": [
    "import Mazes "
   ]
  },
  {
   "cell_type": "code",
   "execution_count": 9,
   "metadata": {},
   "outputs": [],
   "source": [
    "#Funzione per selezionare un labirinto\n",
    "Mazes.selectMaze(3)"
   ]
  },
  {
   "cell_type": "code",
   "execution_count": 10,
   "metadata": {},
   "outputs": [
    {
     "name": "stdout",
     "output_type": "stream",
     "text": [
      "╔   ═   ═   ═   ╦   ═   ═   ═   ═   ╗   \n",
      "║   ░   ░   ░   ║   ░   ░   ░   ░   ║   \n",
      "║   ░   ║   ░   ║   ░   ╔   ═   ░   ▓   \n",
      "║   ░   ║   ░   ░   ░   ║   ░   ░   ║   \n",
      "╚   ═   ╩   ═   ═   ═   ╩   ═   ═   ╝   \n"
     ]
    }
   ],
   "source": [
    "#Funzione per mostrare il labirinto selezionato\n",
    "Mazes.printMaze()"
   ]
  },
  {
   "cell_type": "code",
   "execution_count": 11,
   "metadata": {},
   "outputs": [
    {
     "data": {
      "text/plain": [
       "0"
      ]
     },
     "execution_count": 11,
     "metadata": {},
     "output_type": "execute_result"
    }
   ],
   "source": [
    "#Funzione che ritorna il tipo della cella corrispondente alle coordinate passate\n",
    "Mazes.getMazeCellType((3,1))"
   ]
  },
  {
   "cell_type": "code",
   "execution_count": 12,
   "metadata": {},
   "outputs": [
    {
     "data": {
      "text/plain": [
       "True"
      ]
     },
     "execution_count": 12,
     "metadata": {},
     "output_type": "execute_result"
    }
   ],
   "source": [
    "#Prova se, da una posizione iniziale, un percorso porta a una soluzione d'uscita\n",
    "Mazes.test_solution((3,1), [(-1, 0), (-1, 0), (0, 1), (0, 1), (1, 0), (1, 0), (0, 1), (0, 1), (-1, 0), (-1, 0), (0, 1), (0, 1), (0, 1), (1, 0), (0, 1)])"
   ]
  },
  {
   "cell_type": "code",
   "execution_count": 13,
   "metadata": {},
   "outputs": [
    {
     "data": {
      "text/plain": [
       "False"
      ]
     },
     "execution_count": 13,
     "metadata": {},
     "output_type": "execute_result"
    }
   ],
   "source": [
    "Mazes.test_solution((7,7), [(-1, 0), (-1, 0), (0, 1), (0, 1), (1, 0), (1, 0), (0, 1), (1, 0), (-1, 0), (-1, 0), (0, 1), (0, 1), (0, 1), (1, 0), (0, 1)])"
   ]
  },
  {
   "cell_type": "code",
   "execution_count": 14,
   "metadata": {},
   "outputs": [
    {
     "ename": "IndentationError",
     "evalue": "expected an indented block after function definition on line 24 (4033072668.py, line 24)",
     "output_type": "error",
     "traceback": [
      "\u001b[1;36m  Input \u001b[1;32mIn [14]\u001b[1;36m\u001b[0m\n\u001b[1;33m    def solution(starting_position, path, arrival_direction):\u001b[0m\n\u001b[1;37m                                                             ^\u001b[0m\n\u001b[1;31mIndentationError\u001b[0m\u001b[1;31m:\u001b[0m expected an indented block after function definition on line 24\n"
     ]
    }
   ],
   "source": [
    "'''\n",
    "Avete un labirinto N x M, una posizione iniziale, e una direzione iniziale nulla (0, 0)\n",
    "definire un algoritmo ricorsivo che memorizza tutti i movimenti per raggiungere l'uscita.\n",
    "\n",
    "Il valore di ritorno atteso dalla funzione solution(starting_position, path, arrival_direction):\n",
    "- flag = True, False\n",
    "- path = list - percorso per l'uscita\n",
    "\n",
    "Per cercare la soluzione ci si può avvalere delle seguenti funzioni:\n",
    "- Mazes.getMazeCellType(position)\n",
    "- Mazes.getMazeAdjacentCellType(position, direction)\n",
    "- Mazes.getMazeMaxWidth()\n",
    "- Mazes.getMazeMaxHeight()\n",
    "\n",
    "Tipi di caselle:\n",
    "- (-1) casella fuori dal labirinto\n",
    "- (0) casella vuota\n",
    "- (1) muro\n",
    "- (2) uscita\n",
    "\n",
    "NB: le posizioni sono interese come tuple\n",
    "'''\n",
    "directions = [(-1, 0), (0, -1), (1, 0), (0, 1)]\n",
    "def solution(starting_position, path, arrival_direction):\n"
   ]
  },
  {
   "cell_type": "code",
   "execution_count": null,
   "metadata": {},
   "outputs": [
    {
     "name": "stdout",
     "output_type": "stream",
     "text": [
      "[(-1, 0), (-1, 0), (0, 1), (0, 1), (1, 0), (1, 0), (0, 1), (0, 1), (-1, 0), (-1, 0), (0, 1), (0, 1), (0, 1), (1, 0), (0, 1)]\n",
      "True\n"
     ]
    }
   ],
   "source": [
    "Mazes.selectMaze(3)\n",
    "flag, solution = solution((3,1), [], (0,0))\n",
    "print(solution)\n",
    "print(Mazes.test_solution((3,1), solution))"
   ]
  },
  {
   "cell_type": "code",
   "execution_count": null,
   "metadata": {},
   "outputs": [],
   "source": [
    "Mazes.selectMaze(1)\n",
    "flag, solution = solution((4,5), [], (0,0))\n",
    "print(solution)\n",
    "print(Mazes.test_solution((4,5), solution))"
   ]
  },
  {
   "cell_type": "code",
   "execution_count": null,
   "metadata": {},
   "outputs": [],
   "source": []
  }
 ],
 "metadata": {
  "kernelspec": {
   "display_name": "Python 3",
   "language": "python",
   "name": "python3"
  },
  "language_info": {
   "codemirror_mode": {
    "name": "ipython",
    "version": 3
   },
   "file_extension": ".py",
   "mimetype": "text/x-python",
   "name": "python",
   "nbconvert_exporter": "python",
   "pygments_lexer": "ipython3",
   "version": "3.10.1"
  }
 },
 "nbformat": 4,
 "nbformat_minor": 4
}
